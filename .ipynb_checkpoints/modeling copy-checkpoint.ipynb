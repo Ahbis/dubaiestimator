{
 "cells": [
  {
   "cell_type": "markdown",
   "metadata": {
    "id": "fSbVe7nsDzqV"
   },
   "source": [
    "# Import libraies"
   ]
  },
  {
   "cell_type": "code",
   "execution_count": null,
   "metadata": {},
   "outputs": [],
   "source": [
    "import sys\n",
    "print(sys.executable)"
   ]
  },
  {
   "cell_type": "code",
   "execution_count": null,
   "metadata": {},
   "outputs": [],
   "source": [
    "from google.cloud import storage\n",
    "\n",
    "def download_blob(bucket_name, source_blob_name, destination_file_name):\n",
    "    \"\"\"Downloads a blob from the bucket.\"\"\"\n",
    "    storage_client = storage.Client()\n",
    "    bucket = storage_client.bucket(bucket_name)\n",
    "    blob = bucket.blob(source_blob_name)\n",
    "    blob.download_to_filename(destination_file_name)\n",
    "\n",
    "    print(f\"Blob {source_blob_name} downloaded to {destination_file_name}.\")\n",
    "\n",
    "if __name__ == \"__main__\":\n",
    "    bucket_name = \"original_transaction_data\"\n",
    "    source_blob_name = \"merged_cleaned_data.csv\"\n",
    "    destination_file_name = \"data/dataset.csv\"\n",
    "\n",
    "    download_blob(bucket_name, source_blob_name, destination_file_name)\n"
   ]
  },
  {
   "cell_type": "code",
   "execution_count": 126,
   "metadata": {
    "colab": {
     "base_uri": "https://localhost:8080/"
    },
    "id": "cQbXXYtB14wL",
    "outputId": "d80c181d-86fb-438a-b25b-f9dc8ed9ae4a"
   },
   "outputs": [
    {
     "name": "stderr",
     "output_type": "stream",
     "text": [
      "[nltk_data] Downloading package punkt to\n",
      "[nltk_data]     /Users/alamihassanibrahim/nltk_data...\n",
      "[nltk_data]   Package punkt is already up-to-date!\n"
     ]
    }
   ],
   "source": [
    "from datetime import datetime\n",
    "import pandas as pd\n",
    "import nltk\n",
    "nltk.download('punkt')\n",
    "from nltk.tokenize import word_tokenize\n",
    "from nltk.corpus import stopwords\n",
    "from nltk.stem import WordNetLemmatizer, PorterStemmer\n",
    "from sklearn.feature_extraction.text import HashingVectorizer\n",
    "from sklearn.decomposition import TruncatedSVD"
   ]
  },
  {
   "cell_type": "code",
   "execution_count": 127,
   "metadata": {
    "colab": {
     "base_uri": "https://localhost:8080/"
    },
    "id": "hKMqXTEkBJTv",
    "outputId": "6c3eb59f-87a3-438e-f1a5-994347f077f6"
   },
   "outputs": [
    {
     "name": "stderr",
     "output_type": "stream",
     "text": [
      "[nltk_data] Downloading package stopwords to\n",
      "[nltk_data]     /Users/alamihassanibrahim/nltk_data...\n",
      "[nltk_data]   Package stopwords is already up-to-date!\n"
     ]
    },
    {
     "data": {
      "text/plain": [
       "True"
      ]
     },
     "execution_count": 127,
     "metadata": {},
     "output_type": "execute_result"
    }
   ],
   "source": [
    "nltk.download('stopwords')"
   ]
  },
  {
   "cell_type": "markdown",
   "metadata": {
    "id": "DoF33YgtFvpc"
   },
   "source": [
    "# Read data"
   ]
  },
  {
   "cell_type": "code",
   "execution_count": null,
   "metadata": {
    "colab": {
     "base_uri": "https://localhost:8080/"
    },
    "id": "TrwMzas37kzV",
    "outputId": "314f1655-2489-4d76-c3b9-3afb3b3f1c55"
   },
   "outputs": [],
   "source": [
    "from google.colab import drive\n",
    "drive.mount('/content/drive')"
   ]
  },
  {
   "cell_type": "code",
   "execution_count": 140,
   "metadata": {
    "colab": {
     "base_uri": "https://localhost:8080/"
    },
    "id": "c7vCvX9714wN",
    "outputId": "cf1a1db5-8c6d-4b0b-a494-19bcf9baf3f1"
   },
   "outputs": [
    {
     "name": "stdout",
     "output_type": "stream",
     "text": [
      "<class 'pandas.core.frame.DataFrame'>\n",
      "RangeIndex: 427495 entries, 0 to 427494\n",
      "Data columns (total 22 columns):\n",
      " #   Column                     Non-Null Count   Dtype  \n",
      "---  ------                     --------------   -----  \n",
      " 0   Type                       427495 non-null  object \n",
      " 1   Sub type                   427495 non-null  object \n",
      " 2   Sequence                   427495 non-null  object \n",
      " 3   Location                   427495 non-null  object \n",
      " 4   Property Type              427495 non-null  object \n",
      " 5   Property Name              427495 non-null  object \n",
      " 6   Bedrooms                   427495 non-null  int64  \n",
      " 7   Size (Sqf)                 427495 non-null  float64\n",
      " 8   Land Size                  427495 non-null  float64\n",
      " 9   Amount (AED)               427495 non-null  float64\n",
      " 10  AED/Sqf                    427495 non-null  float64\n",
      " 11  Developer                  427495 non-null  object \n",
      " 12  name_property_google       427495 non-null  object \n",
      " 13  types_google               427495 non-null  object \n",
      " 14  address_google             427495 non-null  object \n",
      " 15  rating_google              427495 non-null  float64\n",
      " 16  user_ratings_total_google  427495 non-null  float64\n",
      " 17  northeast_google           427495 non-null  object \n",
      " 18  southwest_google           427495 non-null  object \n",
      " 19  latitude                   427495 non-null  float64\n",
      " 20  longitude                  427495 non-null  float64\n",
      " 21  Month_Year                 427495 non-null  object \n",
      "dtypes: float64(8), int64(1), object(13)\n",
      "memory usage: 71.8+ MB\n"
     ]
    }
   ],
   "source": [
    "df = pd.read_csv('data/merged_cleaned_data.csv')\n",
    "df.info()"
   ]
  },
  {
   "cell_type": "code",
   "execution_count": 129,
   "metadata": {},
   "outputs": [
    {
     "data": {
      "text/html": [
       "<div>\n",
       "<style scoped>\n",
       "    .dataframe tbody tr th:only-of-type {\n",
       "        vertical-align: middle;\n",
       "    }\n",
       "\n",
       "    .dataframe tbody tr th {\n",
       "        vertical-align: top;\n",
       "    }\n",
       "\n",
       "    .dataframe thead th {\n",
       "        text-align: right;\n",
       "    }\n",
       "</style>\n",
       "<table border=\"1\" class=\"dataframe\">\n",
       "  <thead>\n",
       "    <tr style=\"text-align: right;\">\n",
       "      <th></th>\n",
       "      <th>Type</th>\n",
       "      <th>Sub type</th>\n",
       "      <th>Sequence</th>\n",
       "      <th>Location</th>\n",
       "      <th>Property Type</th>\n",
       "      <th>Property Name</th>\n",
       "      <th>Bedrooms</th>\n",
       "      <th>Size (Sqf)</th>\n",
       "      <th>Land Size</th>\n",
       "      <th>Amount (AED)</th>\n",
       "      <th>...</th>\n",
       "      <th>name_property_google</th>\n",
       "      <th>types_google</th>\n",
       "      <th>address_google</th>\n",
       "      <th>rating_google</th>\n",
       "      <th>user_ratings_total_google</th>\n",
       "      <th>northeast_google</th>\n",
       "      <th>southwest_google</th>\n",
       "      <th>latitude</th>\n",
       "      <th>longitude</th>\n",
       "      <th>Month_Year</th>\n",
       "    </tr>\n",
       "  </thead>\n",
       "  <tbody>\n",
       "  </tbody>\n",
       "</table>\n",
       "<p>0 rows × 22 columns</p>\n",
       "</div>"
      ],
      "text/plain": [
       "Empty DataFrame\n",
       "Columns: [Type, Sub type, Sequence, Location, Property Type, Property Name, Bedrooms, Size (Sqf), Land Size, Amount (AED), AED/Sqf, Developer, name_property_google, types_google, address_google, rating_google, user_ratings_total_google, northeast_google, southwest_google, latitude, longitude, Month_Year]\n",
       "Index: []\n",
       "\n",
       "[0 rows x 22 columns]"
      ]
     },
     "execution_count": 129,
     "metadata": {},
     "output_type": "execute_result"
    }
   ],
   "source": [
    "# Make sure 'month-year' column is in datetime format\n",
    "df['Month_Year'] = pd.to_datetime(df['Month_Year'])\n",
    "\n",
    "# Filter the DataFrame based on the desired date\n",
    "filtered_df = df[df['Month_Year'] > '2023-03-31']\n",
    "\n",
    "# Display the filtered DataFrame\n",
    "filtered_df\n"
   ]
  },
  {
   "cell_type": "code",
   "execution_count": 141,
   "metadata": {
    "colab": {
     "base_uri": "https://localhost:8080/"
    },
    "id": "-e1rKmbQ14wO",
    "outputId": "5a0a0486-b5a8-44f1-dfcc-02884ae72a91"
   },
   "outputs": [
    {
     "data": {
      "text/plain": [
       "(200000, 22)"
      ]
     },
     "execution_count": 141,
     "metadata": {},
     "output_type": "execute_result"
    }
   ],
   "source": [
    "# Get 200k rows\n",
    "df['Month_Year'] = pd.to_datetime(df['Month_Year'])\n",
    "df = df.sort_values(by='Month_Year', ascending=False)\n",
    "\n",
    "# select the most recent 200k rows using iloc\n",
    "df = df.iloc[:200000]\n",
    "df.shape"
   ]
  },
  {
   "cell_type": "code",
   "execution_count": null,
   "metadata": {},
   "outputs": [],
   "source": [
    "df.columns"
   ]
  },
  {
   "cell_type": "code",
   "execution_count": 142,
   "metadata": {
    "id": "bZWSWm9r14wO"
   },
   "outputs": [],
   "source": [
    "df.reset_index(inplace=True)"
   ]
  },
  {
   "cell_type": "markdown",
   "metadata": {
    "id": "GiKyjn60GGft"
   },
   "source": [
    "# Pre-Processing"
   ]
  },
  {
   "cell_type": "markdown",
   "metadata": {
    "id": "yQCPuWtlGM_b"
   },
   "source": [
    "Create Year column"
   ]
  },
  {
   "cell_type": "code",
   "execution_count": 143,
   "metadata": {
    "colab": {
     "base_uri": "https://localhost:8080/"
    },
    "id": "IafOEPsK14wO",
    "outputId": "b10d9304-1775-4bca-8436-d18dcf5c41d5"
   },
   "outputs": [
    {
     "data": {
      "text/plain": [
       "(200000, 24)"
      ]
     },
     "execution_count": 143,
     "metadata": {},
     "output_type": "execute_result"
    }
   ],
   "source": [
    "df['Month_Year'] = df['Month_Year'].apply(lambda x: datetime.strftime(x, '%m-%Y'))\n",
    "# define a function to convert the string to a datetime object and extract the year\n",
    "def extract_year(date_str):\n",
    "    date_obj = datetime.strptime(date_str, '%m-%Y')\n",
    "    return date_obj.year\n",
    "\n",
    "# apply the function to the date column and create a new column with only the year\n",
    "df['Year'] = df['Month_Year'].apply(extract_year)\n",
    "df.shape"
   ]
  },
  {
   "cell_type": "code",
   "execution_count": 144,
   "metadata": {},
   "outputs": [
    {
     "data": {
      "text/html": [
       "<div>\n",
       "<style scoped>\n",
       "    .dataframe tbody tr th:only-of-type {\n",
       "        vertical-align: middle;\n",
       "    }\n",
       "\n",
       "    .dataframe tbody tr th {\n",
       "        vertical-align: top;\n",
       "    }\n",
       "\n",
       "    .dataframe thead th {\n",
       "        text-align: right;\n",
       "    }\n",
       "</style>\n",
       "<table border=\"1\" class=\"dataframe\">\n",
       "  <thead>\n",
       "    <tr style=\"text-align: right;\">\n",
       "      <th></th>\n",
       "      <th>index</th>\n",
       "      <th>Type</th>\n",
       "      <th>Sub type</th>\n",
       "      <th>Sequence</th>\n",
       "      <th>Location</th>\n",
       "      <th>Property Type</th>\n",
       "      <th>Property Name</th>\n",
       "      <th>Bedrooms</th>\n",
       "      <th>Size (Sqf)</th>\n",
       "      <th>Land Size</th>\n",
       "      <th>...</th>\n",
       "      <th>types_google</th>\n",
       "      <th>address_google</th>\n",
       "      <th>rating_google</th>\n",
       "      <th>user_ratings_total_google</th>\n",
       "      <th>northeast_google</th>\n",
       "      <th>southwest_google</th>\n",
       "      <th>latitude</th>\n",
       "      <th>longitude</th>\n",
       "      <th>Month_Year</th>\n",
       "      <th>Year</th>\n",
       "    </tr>\n",
       "  </thead>\n",
       "  <tbody>\n",
       "    <tr>\n",
       "      <th>0</th>\n",
       "      <td>0</td>\n",
       "      <td>Sales - Off-Plan</td>\n",
       "      <td>Sell - Pre registration</td>\n",
       "      <td>Primary</td>\n",
       "      <td>Al Furjan</td>\n",
       "      <td>Apartment</td>\n",
       "      <td>PG Upperhouse</td>\n",
       "      <td>1</td>\n",
       "      <td>738.41</td>\n",
       "      <td>0.0</td>\n",
       "      <td>...</td>\n",
       "      <td>['point_of_interest', 'establishment']</td>\n",
       "      <td>Jebel Ali Village - Al Furjan - Dubai</td>\n",
       "      <td>5.0</td>\n",
       "      <td>3.0</td>\n",
       "      <td>25.03273077989272,55.14044682989272</td>\n",
       "      <td>25.03003112010728,55.13774717010728</td>\n",
       "      <td>25.031415</td>\n",
       "      <td>55.138923</td>\n",
       "      <td>02-2023</td>\n",
       "      <td>2023</td>\n",
       "    </tr>\n",
       "    <tr>\n",
       "      <th>1</th>\n",
       "      <td>1994</td>\n",
       "      <td>Sales - Ready</td>\n",
       "      <td>Delayed Sell</td>\n",
       "      <td>Secondary</td>\n",
       "      <td>Dubai Creek Harbour</td>\n",
       "      <td>Apartment</td>\n",
       "      <td>The Bay (17 Icon)</td>\n",
       "      <td>1</td>\n",
       "      <td>1335.27</td>\n",
       "      <td>0.0</td>\n",
       "      <td>...</td>\n",
       "      <td>['lodging', 'point_of_interest', 'establishment']</td>\n",
       "      <td>Ras Al Khor - Dubai Creek Harbour - Dubai</td>\n",
       "      <td>4.6</td>\n",
       "      <td>23.0</td>\n",
       "      <td>25.20520027989272,55.34731947989272</td>\n",
       "      <td>25.20250062010728,55.34461982010727</td>\n",
       "      <td>25.203981</td>\n",
       "      <td>55.345733</td>\n",
       "      <td>02-2023</td>\n",
       "      <td>2023</td>\n",
       "    </tr>\n",
       "    <tr>\n",
       "      <th>2</th>\n",
       "      <td>1985</td>\n",
       "      <td>Sales - Ready</td>\n",
       "      <td>Delayed Sell</td>\n",
       "      <td>Secondary</td>\n",
       "      <td>Al Jadaf</td>\n",
       "      <td>Apartment</td>\n",
       "      <td>Farhad Azizi Residence</td>\n",
       "      <td>0</td>\n",
       "      <td>366.73</td>\n",
       "      <td>0.0</td>\n",
       "      <td>...</td>\n",
       "      <td>['lodging', 'point_of_interest', 'establishment']</td>\n",
       "      <td>Al Jaddaf - Dubai</td>\n",
       "      <td>3.4</td>\n",
       "      <td>27.0</td>\n",
       "      <td>25.21022487989272,55.31672412989272</td>\n",
       "      <td>25.20752522010728,55.31402447010728</td>\n",
       "      <td>25.208878</td>\n",
       "      <td>55.315334</td>\n",
       "      <td>02-2023</td>\n",
       "      <td>2023</td>\n",
       "    </tr>\n",
       "    <tr>\n",
       "      <th>3</th>\n",
       "      <td>1986</td>\n",
       "      <td>Sales - Ready</td>\n",
       "      <td>Delayed Sell</td>\n",
       "      <td>Secondary</td>\n",
       "      <td>Al Kifaf</td>\n",
       "      <td>Apartment</td>\n",
       "      <td>Park Gate Residences 2</td>\n",
       "      <td>1</td>\n",
       "      <td>992.23</td>\n",
       "      <td>0.0</td>\n",
       "      <td>...</td>\n",
       "      <td>['point_of_interest', 'establishment']</td>\n",
       "      <td>Unnamed Road - Za'abeel - Dubai</td>\n",
       "      <td>4.4</td>\n",
       "      <td>23.0</td>\n",
       "      <td>25.23526262989272,55.29506812989272</td>\n",
       "      <td>25.23256297010728,55.29236847010728</td>\n",
       "      <td>25.234047</td>\n",
       "      <td>55.293809</td>\n",
       "      <td>02-2023</td>\n",
       "      <td>2023</td>\n",
       "    </tr>\n",
       "    <tr>\n",
       "      <th>4</th>\n",
       "      <td>1987</td>\n",
       "      <td>Sales - Ready</td>\n",
       "      <td>Delayed Sell</td>\n",
       "      <td>Secondary</td>\n",
       "      <td>Business Bay</td>\n",
       "      <td>Apartment</td>\n",
       "      <td>Prive by Damac Tower A</td>\n",
       "      <td>0</td>\n",
       "      <td>431.74</td>\n",
       "      <td>0.0</td>\n",
       "      <td>...</td>\n",
       "      <td>['lodging', 'point_of_interest', 'establishment']</td>\n",
       "      <td>The Metropolis Tower - Business Bay - Dubai</td>\n",
       "      <td>4.3</td>\n",
       "      <td>363.0</td>\n",
       "      <td>25.18586417989271,55.27699217989272</td>\n",
       "      <td>25.18316452010727,55.27429252010727</td>\n",
       "      <td>25.184310</td>\n",
       "      <td>55.275516</td>\n",
       "      <td>02-2023</td>\n",
       "      <td>2023</td>\n",
       "    </tr>\n",
       "  </tbody>\n",
       "</table>\n",
       "<p>5 rows × 24 columns</p>\n",
       "</div>"
      ],
      "text/plain": [
       "   index              Type                 Sub type   Sequence  \\\n",
       "0      0  Sales - Off-Plan  Sell - Pre registration    Primary   \n",
       "1   1994     Sales - Ready             Delayed Sell  Secondary   \n",
       "2   1985     Sales - Ready             Delayed Sell  Secondary   \n",
       "3   1986     Sales - Ready             Delayed Sell  Secondary   \n",
       "4   1987     Sales - Ready             Delayed Sell  Secondary   \n",
       "\n",
       "              Location Property Type           Property Name  Bedrooms  \\\n",
       "0            Al Furjan     Apartment           PG Upperhouse         1   \n",
       "1  Dubai Creek Harbour     Apartment       The Bay (17 Icon)         1   \n",
       "2             Al Jadaf     Apartment  Farhad Azizi Residence         0   \n",
       "3             Al Kifaf     Apartment  Park Gate Residences 2         1   \n",
       "4         Business Bay     Apartment  Prive by Damac Tower A         0   \n",
       "\n",
       "   Size (Sqf)  Land Size  ...  \\\n",
       "0      738.41        0.0  ...   \n",
       "1     1335.27        0.0  ...   \n",
       "2      366.73        0.0  ...   \n",
       "3      992.23        0.0  ...   \n",
       "4      431.74        0.0  ...   \n",
       "\n",
       "                                        types_google  \\\n",
       "0             ['point_of_interest', 'establishment']   \n",
       "1  ['lodging', 'point_of_interest', 'establishment']   \n",
       "2  ['lodging', 'point_of_interest', 'establishment']   \n",
       "3             ['point_of_interest', 'establishment']   \n",
       "4  ['lodging', 'point_of_interest', 'establishment']   \n",
       "\n",
       "                                address_google rating_google  \\\n",
       "0        Jebel Ali Village - Al Furjan - Dubai           5.0   \n",
       "1    Ras Al Khor - Dubai Creek Harbour - Dubai           4.6   \n",
       "2                            Al Jaddaf - Dubai           3.4   \n",
       "3              Unnamed Road - Za'abeel - Dubai           4.4   \n",
       "4  The Metropolis Tower - Business Bay - Dubai           4.3   \n",
       "\n",
       "  user_ratings_total_google                     northeast_google  \\\n",
       "0                       3.0  25.03273077989272,55.14044682989272   \n",
       "1                      23.0  25.20520027989272,55.34731947989272   \n",
       "2                      27.0  25.21022487989272,55.31672412989272   \n",
       "3                      23.0  25.23526262989272,55.29506812989272   \n",
       "4                     363.0  25.18586417989271,55.27699217989272   \n",
       "\n",
       "                      southwest_google   latitude  longitude Month_Year  Year  \n",
       "0  25.03003112010728,55.13774717010728  25.031415  55.138923    02-2023  2023  \n",
       "1  25.20250062010728,55.34461982010727  25.203981  55.345733    02-2023  2023  \n",
       "2  25.20752522010728,55.31402447010728  25.208878  55.315334    02-2023  2023  \n",
       "3  25.23256297010728,55.29236847010728  25.234047  55.293809    02-2023  2023  \n",
       "4  25.18316452010727,55.27429252010727  25.184310  55.275516    02-2023  2023  \n",
       "\n",
       "[5 rows x 24 columns]"
      ]
     },
     "execution_count": 144,
     "metadata": {},
     "output_type": "execute_result"
    }
   ],
   "source": [
    "df.head()"
   ]
  },
  {
   "cell_type": "markdown",
   "metadata": {
    "id": "cFicsVWxGpPo"
   },
   "source": [
    "Tokenize 'name_property'"
   ]
  },
  {
   "cell_type": "code",
   "execution_count": null,
   "metadata": {},
   "outputs": [],
   "source": [
    "df.columns"
   ]
  },
  {
   "cell_type": "code",
   "execution_count": null,
   "metadata": {},
   "outputs": [],
   "source": [
    "df.head()"
   ]
  },
  {
   "cell_type": "code",
   "execution_count": 145,
   "metadata": {},
   "outputs": [],
   "source": [
    "df.drop(\"index\", axis=1,inplace=True)"
   ]
  },
  {
   "cell_type": "code",
   "execution_count": null,
   "metadata": {},
   "outputs": [],
   "source": [
    "print(df['Property Name'].value_counts())"
   ]
  },
  {
   "cell_type": "code",
   "execution_count": 146,
   "metadata": {
    "colab": {
     "base_uri": "https://localhost:8080/"
    },
    "id": "yPbtQQSK14wO",
    "outputId": "10878ce1-3697-4ac8-9a1c-4216ccdce6a5"
   },
   "outputs": [
    {
     "name": "stderr",
     "output_type": "stream",
     "text": [
      "/var/folders/y2/94fl58f16jj1h1p44ytcw72m0000gn/T/ipykernel_44404/1690019950.py:9: FutureWarning: The default value of regex will change from True to False in a future version.\n",
      "  df['Property Name'] = df['Property Name'].str.replace('[^\\w\\s]', '')\n"
     ]
    },
    {
     "data": {
      "text/plain": [
       "(200000, 23)"
      ]
     },
     "execution_count": 146,
     "metadata": {},
     "output_type": "execute_result"
    }
   ],
   "source": [
    "# Remove stopwords\n",
    "stop_words = set(stopwords.words('english'))\n",
    "df['Property Name'] = df['Property Name'].apply(lambda x: ' '.join([word for word in x.split() if word not in stop_words]))\n",
    "\n",
    "# Convert to lowercase\n",
    "df['Property Name'] = df['Property Name'].str.lower()\n",
    "\n",
    "# Remove punctuation and special characters\n",
    "df['Property Name'] = df['Property Name'].str.replace('[^\\w\\s]', '')\n",
    "\n",
    "# Tokenize the text\n",
    "df['Property Name'] = df['Property Name'].apply(lambda x: word_tokenize(x))\n",
    "\n",
    "df.shape\n"
   ]
  },
  {
   "cell_type": "markdown",
   "metadata": {
    "id": "NS1iyKcuGu_m"
   },
   "source": [
    "Hashing 'name_property'"
   ]
  },
  {
   "cell_type": "code",
   "execution_count": 147,
   "metadata": {
    "colab": {
     "base_uri": "https://localhost:8080/"
    },
    "id": "vrmUP8Np14wP",
    "outputId": "9b710693-976d-452b-da21-fab2f770ef45"
   },
   "outputs": [
    {
     "data": {
      "text/plain": [
       "(200000, 123)"
      ]
     },
     "execution_count": 147,
     "metadata": {},
     "output_type": "execute_result"
    }
   ],
   "source": [
    "vectorizer = HashingVectorizer(n_features=200000, ngram_range=(1, 2))\n",
    "X = vectorizer.fit_transform(df['Property Name'].astype(str))\n",
    "svd = TruncatedSVD(n_components=100)\n",
    "components = svd.fit_transform(X)\n",
    "\n",
    "hashing_columns = []\n",
    "# loop over the range from 1 to 100 and create a string for each number\n",
    "for i in range(1, (components.shape[1]+1)):\n",
    "    hashing_columns.append('hashing_'+str(i))\n",
    "\n",
    "# create a new DataFrame with the SVD components\n",
    "components_df = pd.DataFrame(components, columns=hashing_columns)\n",
    "\n",
    "# merge the original DataFrame with the components DataFrame\n",
    "df = pd.concat([df, components_df], axis=1)\n",
    "df.shape"
   ]
  },
  {
   "cell_type": "markdown",
   "metadata": {
    "id": "gvpMWE5jG0nf"
   },
   "source": [
    "Standardization"
   ]
  },
  {
   "cell_type": "code",
   "execution_count": 149,
   "metadata": {
    "colab": {
     "base_uri": "https://localhost:8080/"
    },
    "id": "5QpEP_oI14wP",
    "outputId": "2d6ef4ce-62ab-4b6c-838b-c65a979b4c61"
   },
   "outputs": [
    {
     "data": {
      "text/plain": [
       "(200000, 123)"
      ]
     },
     "execution_count": 149,
     "metadata": {},
     "output_type": "execute_result"
    }
   ],
   "source": [
    "from sklearn.preprocessing import StandardScaler\n",
    "\n",
    "# create an instance of the StandardScaler class\n",
    "scaler = StandardScaler()\n",
    "\n",
    "# select the columns to scale\n",
    "cols_to_scale = ['latitude', 'Land Size','Year','Bedrooms','Size (Sqf)','longitude']\n",
    "\n",
    "# apply the scaler to the selected columns\n",
    "df[cols_to_scale] = scaler.fit_transform(df[cols_to_scale])\n",
    "df.shape"
   ]
  },
  {
   "cell_type": "markdown",
   "metadata": {
    "id": "wdwviHebG_7v"
   },
   "source": [
    "Encoding"
   ]
  },
  {
   "cell_type": "code",
   "execution_count": 151,
   "metadata": {
    "colab": {
     "base_uri": "https://localhost:8080/"
    },
    "id": "7nUD2BYO14wP",
    "outputId": "52585c5f-6f06-4112-f758-136fd598cd3a"
   },
   "outputs": [
    {
     "data": {
      "text/plain": [
       "(200000, 247)"
      ]
     },
     "execution_count": 151,
     "metadata": {},
     "output_type": "execute_result"
    }
   ],
   "source": [
    "dummy_cols = ['Sequence', 'Type', 'Sub type', 'Property Type','Location']\n",
    "df = pd.get_dummies(df, columns=dummy_cols)\n",
    "\n",
    "# print the resulting DataFrame\n",
    "df.shape"
   ]
  },
  {
   "cell_type": "code",
   "execution_count": 155,
   "metadata": {},
   "outputs": [],
   "source": [
    "df.drop(['AED/Sqf', 'Developer', 'name_property_google', 'types_google',\n",
    "       'address_google', 'rating_google', 'user_ratings_total_google',\n",
    "       'northeast_google', 'southwest_google', 'Month_Year'], axis=1, inplace=True)\n"
   ]
  },
  {
   "cell_type": "code",
   "execution_count": null,
   "metadata": {},
   "outputs": [],
   "source": [
    "print(list(df.columns))\n"
   ]
  },
  {
   "cell_type": "markdown",
   "metadata": {
    "id": "FJ55KVPtHB69"
   },
   "source": [
    "# Training"
   ]
  },
  {
   "cell_type": "markdown",
   "metadata": {
    "id": "jhspy6JRHGdK"
   },
   "source": [
    "Train-test split"
   ]
  },
  {
   "cell_type": "code",
   "execution_count": 158,
   "metadata": {},
   "outputs": [
    {
     "data": {
      "text/html": [
       "<div>\n",
       "<style scoped>\n",
       "    .dataframe tbody tr th:only-of-type {\n",
       "        vertical-align: middle;\n",
       "    }\n",
       "\n",
       "    .dataframe tbody tr th {\n",
       "        vertical-align: top;\n",
       "    }\n",
       "\n",
       "    .dataframe thead th {\n",
       "        text-align: right;\n",
       "    }\n",
       "</style>\n",
       "<table border=\"1\" class=\"dataframe\">\n",
       "  <thead>\n",
       "    <tr style=\"text-align: right;\">\n",
       "      <th></th>\n",
       "      <th>Property Name</th>\n",
       "      <th>Bedrooms</th>\n",
       "      <th>Size (Sqf)</th>\n",
       "      <th>Land Size</th>\n",
       "      <th>Amount (AED)</th>\n",
       "      <th>latitude</th>\n",
       "      <th>longitude</th>\n",
       "      <th>Year</th>\n",
       "      <th>hashing_1</th>\n",
       "      <th>hashing_2</th>\n",
       "      <th>...</th>\n",
       "      <th>Location_The Villages</th>\n",
       "      <th>Location_Tilal Al Ghaf</th>\n",
       "      <th>Location_Town Square</th>\n",
       "      <th>Location_Trade Center Second</th>\n",
       "      <th>Location_Umm Suqeim Third</th>\n",
       "      <th>Location_Uptown Motorcity</th>\n",
       "      <th>Location_Victory Heights</th>\n",
       "      <th>Location_Villanova</th>\n",
       "      <th>Location_World Islands</th>\n",
       "      <th>Location_Zaabeel First</th>\n",
       "    </tr>\n",
       "  </thead>\n",
       "  <tbody>\n",
       "    <tr>\n",
       "      <th>0</th>\n",
       "      <td>[pg, upperhouse]</td>\n",
       "      <td>-0.673537</td>\n",
       "      <td>-0.705961</td>\n",
       "      <td>-0.491391</td>\n",
       "      <td>719842.5</td>\n",
       "      <td>-0.865821</td>\n",
       "      <td>-1.421645</td>\n",
       "      <td>1.6478</td>\n",
       "      <td>3.562543e-16</td>\n",
       "      <td>9.967198e-15</td>\n",
       "      <td>...</td>\n",
       "      <td>0</td>\n",
       "      <td>0</td>\n",
       "      <td>0</td>\n",
       "      <td>0</td>\n",
       "      <td>0</td>\n",
       "      <td>0</td>\n",
       "      <td>0</td>\n",
       "      <td>0</td>\n",
       "      <td>0</td>\n",
       "      <td>0</td>\n",
       "    </tr>\n",
       "    <tr>\n",
       "      <th>1</th>\n",
       "      <td>[the, bay, 17, icon]</td>\n",
       "      <td>-0.673537</td>\n",
       "      <td>-0.104711</td>\n",
       "      <td>-0.491391</td>\n",
       "      <td>1700000.0</td>\n",
       "      <td>1.395809</td>\n",
       "      <td>1.208450</td>\n",
       "      <td>1.6478</td>\n",
       "      <td>6.879626e-02</td>\n",
       "      <td>2.469352e-01</td>\n",
       "      <td>...</td>\n",
       "      <td>0</td>\n",
       "      <td>0</td>\n",
       "      <td>0</td>\n",
       "      <td>0</td>\n",
       "      <td>0</td>\n",
       "      <td>0</td>\n",
       "      <td>0</td>\n",
       "      <td>0</td>\n",
       "      <td>0</td>\n",
       "      <td>0</td>\n",
       "    </tr>\n",
       "    <tr>\n",
       "      <th>2</th>\n",
       "      <td>[farhad, azizi, residence]</td>\n",
       "      <td>-1.438369</td>\n",
       "      <td>-1.080374</td>\n",
       "      <td>-0.491391</td>\n",
       "      <td>520000.0</td>\n",
       "      <td>1.459990</td>\n",
       "      <td>0.821853</td>\n",
       "      <td>1.6478</td>\n",
       "      <td>4.632626e-03</td>\n",
       "      <td>5.181818e-03</td>\n",
       "      <td>...</td>\n",
       "      <td>0</td>\n",
       "      <td>0</td>\n",
       "      <td>0</td>\n",
       "      <td>0</td>\n",
       "      <td>0</td>\n",
       "      <td>0</td>\n",
       "      <td>0</td>\n",
       "      <td>0</td>\n",
       "      <td>0</td>\n",
       "      <td>0</td>\n",
       "    </tr>\n",
       "    <tr>\n",
       "      <th>3</th>\n",
       "      <td>[park, gate, residences, 2]</td>\n",
       "      <td>-0.673537</td>\n",
       "      <td>-0.450274</td>\n",
       "      <td>-0.491391</td>\n",
       "      <td>1660000.0</td>\n",
       "      <td>1.789857</td>\n",
       "      <td>0.548106</td>\n",
       "      <td>1.6478</td>\n",
       "      <td>7.706610e-02</td>\n",
       "      <td>3.975237e-01</td>\n",
       "      <td>...</td>\n",
       "      <td>0</td>\n",
       "      <td>0</td>\n",
       "      <td>0</td>\n",
       "      <td>0</td>\n",
       "      <td>0</td>\n",
       "      <td>0</td>\n",
       "      <td>0</td>\n",
       "      <td>0</td>\n",
       "      <td>0</td>\n",
       "      <td>0</td>\n",
       "    </tr>\n",
       "    <tr>\n",
       "      <th>4</th>\n",
       "      <td>[prive, damac, tower, a]</td>\n",
       "      <td>-1.438369</td>\n",
       "      <td>-1.014886</td>\n",
       "      <td>-0.491391</td>\n",
       "      <td>850000.0</td>\n",
       "      <td>1.138013</td>\n",
       "      <td>0.315462</td>\n",
       "      <td>1.6478</td>\n",
       "      <td>4.578130e-01</td>\n",
       "      <td>-9.228629e-02</td>\n",
       "      <td>...</td>\n",
       "      <td>0</td>\n",
       "      <td>0</td>\n",
       "      <td>0</td>\n",
       "      <td>0</td>\n",
       "      <td>0</td>\n",
       "      <td>0</td>\n",
       "      <td>0</td>\n",
       "      <td>0</td>\n",
       "      <td>0</td>\n",
       "      <td>0</td>\n",
       "    </tr>\n",
       "  </tbody>\n",
       "</table>\n",
       "<p>5 rows × 237 columns</p>\n",
       "</div>"
      ],
      "text/plain": [
       "                 Property Name  Bedrooms  Size (Sqf)  Land Size  Amount (AED)  \\\n",
       "0             [pg, upperhouse] -0.673537   -0.705961  -0.491391      719842.5   \n",
       "1         [the, bay, 17, icon] -0.673537   -0.104711  -0.491391     1700000.0   \n",
       "2   [farhad, azizi, residence] -1.438369   -1.080374  -0.491391      520000.0   \n",
       "3  [park, gate, residences, 2] -0.673537   -0.450274  -0.491391     1660000.0   \n",
       "4     [prive, damac, tower, a] -1.438369   -1.014886  -0.491391      850000.0   \n",
       "\n",
       "   latitude  longitude    Year     hashing_1     hashing_2  ...  \\\n",
       "0 -0.865821  -1.421645  1.6478  3.562543e-16  9.967198e-15  ...   \n",
       "1  1.395809   1.208450  1.6478  6.879626e-02  2.469352e-01  ...   \n",
       "2  1.459990   0.821853  1.6478  4.632626e-03  5.181818e-03  ...   \n",
       "3  1.789857   0.548106  1.6478  7.706610e-02  3.975237e-01  ...   \n",
       "4  1.138013   0.315462  1.6478  4.578130e-01 -9.228629e-02  ...   \n",
       "\n",
       "   Location_The Villages  Location_Tilal Al Ghaf  Location_Town Square  \\\n",
       "0                      0                       0                     0   \n",
       "1                      0                       0                     0   \n",
       "2                      0                       0                     0   \n",
       "3                      0                       0                     0   \n",
       "4                      0                       0                     0   \n",
       "\n",
       "   Location_Trade Center Second  Location_Umm Suqeim Third  \\\n",
       "0                             0                          0   \n",
       "1                             0                          0   \n",
       "2                             0                          0   \n",
       "3                             0                          0   \n",
       "4                             0                          0   \n",
       "\n",
       "   Location_Uptown Motorcity  Location_Victory Heights  Location_Villanova  \\\n",
       "0                          0                         0                   0   \n",
       "1                          0                         0                   0   \n",
       "2                          0                         0                   0   \n",
       "3                          0                         0                   0   \n",
       "4                          0                         0                   0   \n",
       "\n",
       "   Location_World Islands  Location_Zaabeel First  \n",
       "0                       0                       0  \n",
       "1                       0                       0  \n",
       "2                       0                       0  \n",
       "3                       0                       0  \n",
       "4                       0                       0  \n",
       "\n",
       "[5 rows x 237 columns]"
      ]
     },
     "execution_count": 158,
     "metadata": {},
     "output_type": "execute_result"
    }
   ],
   "source": [
    "df.head()"
   ]
  },
  {
   "cell_type": "code",
   "execution_count": 162,
   "metadata": {},
   "outputs": [],
   "source": [
    "df.drop('Property Name', axis=1, inplace= True)"
   ]
  },
  {
   "cell_type": "code",
   "execution_count": 163,
   "metadata": {},
   "outputs": [
    {
     "data": {
      "text/plain": [
       "0          719842.5\n",
       "1         1700000.0\n",
       "2          520000.0\n",
       "3         1660000.0\n",
       "4          850000.0\n",
       "            ...    \n",
       "199995    4179888.0\n",
       "199996    2138226.0\n",
       "199997    2138226.0\n",
       "199998     756360.0\n",
       "199999     725681.0\n",
       "Name: Amount (AED), Length: 200000, dtype: float64"
      ]
     },
     "execution_count": 163,
     "metadata": {},
     "output_type": "execute_result"
    }
   ],
   "source": [
    "df['Amount (AED)']"
   ]
  },
  {
   "cell_type": "code",
   "execution_count": 164,
   "metadata": {
    "id": "Td3TUvXQ14wQ"
   },
   "outputs": [],
   "source": [
    "import pandas as pd\n",
    "from sklearn.model_selection import train_test_split\n",
    "\n",
    "# Define the features and target variable\n",
    "X = df.drop(['Amount (AED)'], axis=1)  # Assuming 'Price' is your target variable\n",
    "y = df['Amount (AED)']\n",
    "\n",
    "# Perform a stratified train-test split based on the 'Year' column\n",
    "X_train, X_test, y_train, y_test = train_test_split(\n",
    "    X, y, test_size=0.15, stratify=df['Year'], random_state=42)"
   ]
  },
  {
   "cell_type": "markdown",
   "metadata": {
    "id": "1Wn4dbEpHLo5"
   },
   "source": [
    "Model"
   ]
  },
  {
   "cell_type": "code",
   "execution_count": null,
   "metadata": {
    "colab": {
     "base_uri": "https://localhost:8080/",
     "height": 165
    },
    "id": "RwnYCPxr9Rku",
    "outputId": "d18948b8-5829-4158-de96-abb2c9df2b30"
   },
   "outputs": [],
   "source": [
    "x.c.c"
   ]
  },
  {
   "cell_type": "code",
   "execution_count": 175,
   "metadata": {
    "colab": {
     "base_uri": "https://localhost:8080/",
     "height": 248
    },
    "id": "z1D4MI6W14wR",
    "outputId": "a76e2bc7-cecd-4060-c50b-598d74852143"
   },
   "outputs": [
    {
     "data": {
      "text/html": [
       "<style>#sk-container-id-5 {color: black;background-color: white;}#sk-container-id-5 pre{padding: 0;}#sk-container-id-5 div.sk-toggleable {background-color: white;}#sk-container-id-5 label.sk-toggleable__label {cursor: pointer;display: block;width: 100%;margin-bottom: 0;padding: 0.3em;box-sizing: border-box;text-align: center;}#sk-container-id-5 label.sk-toggleable__label-arrow:before {content: \"▸\";float: left;margin-right: 0.25em;color: #696969;}#sk-container-id-5 label.sk-toggleable__label-arrow:hover:before {color: black;}#sk-container-id-5 div.sk-estimator:hover label.sk-toggleable__label-arrow:before {color: black;}#sk-container-id-5 div.sk-toggleable__content {max-height: 0;max-width: 0;overflow: hidden;text-align: left;background-color: #f0f8ff;}#sk-container-id-5 div.sk-toggleable__content pre {margin: 0.2em;color: black;border-radius: 0.25em;background-color: #f0f8ff;}#sk-container-id-5 input.sk-toggleable__control:checked~div.sk-toggleable__content {max-height: 200px;max-width: 100%;overflow: auto;}#sk-container-id-5 input.sk-toggleable__control:checked~label.sk-toggleable__label-arrow:before {content: \"▾\";}#sk-container-id-5 div.sk-estimator input.sk-toggleable__control:checked~label.sk-toggleable__label {background-color: #d4ebff;}#sk-container-id-5 div.sk-label input.sk-toggleable__control:checked~label.sk-toggleable__label {background-color: #d4ebff;}#sk-container-id-5 input.sk-hidden--visually {border: 0;clip: rect(1px 1px 1px 1px);clip: rect(1px, 1px, 1px, 1px);height: 1px;margin: -1px;overflow: hidden;padding: 0;position: absolute;width: 1px;}#sk-container-id-5 div.sk-estimator {font-family: monospace;background-color: #f0f8ff;border: 1px dotted black;border-radius: 0.25em;box-sizing: border-box;margin-bottom: 0.5em;}#sk-container-id-5 div.sk-estimator:hover {background-color: #d4ebff;}#sk-container-id-5 div.sk-parallel-item::after {content: \"\";width: 100%;border-bottom: 1px solid gray;flex-grow: 1;}#sk-container-id-5 div.sk-label:hover label.sk-toggleable__label {background-color: #d4ebff;}#sk-container-id-5 div.sk-serial::before {content: \"\";position: absolute;border-left: 1px solid gray;box-sizing: border-box;top: 0;bottom: 0;left: 50%;z-index: 0;}#sk-container-id-5 div.sk-serial {display: flex;flex-direction: column;align-items: center;background-color: white;padding-right: 0.2em;padding-left: 0.2em;position: relative;}#sk-container-id-5 div.sk-item {position: relative;z-index: 1;}#sk-container-id-5 div.sk-parallel {display: flex;align-items: stretch;justify-content: center;background-color: white;position: relative;}#sk-container-id-5 div.sk-item::before, #sk-container-id-5 div.sk-parallel-item::before {content: \"\";position: absolute;border-left: 1px solid gray;box-sizing: border-box;top: 0;bottom: 0;left: 50%;z-index: -1;}#sk-container-id-5 div.sk-parallel-item {display: flex;flex-direction: column;z-index: 1;position: relative;background-color: white;}#sk-container-id-5 div.sk-parallel-item:first-child::after {align-self: flex-end;width: 50%;}#sk-container-id-5 div.sk-parallel-item:last-child::after {align-self: flex-start;width: 50%;}#sk-container-id-5 div.sk-parallel-item:only-child::after {width: 0;}#sk-container-id-5 div.sk-dashed-wrapped {border: 1px dashed gray;margin: 0 0.4em 0.5em 0.4em;box-sizing: border-box;padding-bottom: 0.4em;background-color: white;}#sk-container-id-5 div.sk-label label {font-family: monospace;font-weight: bold;display: inline-block;line-height: 1.2em;}#sk-container-id-5 div.sk-label-container {text-align: center;}#sk-container-id-5 div.sk-container {/* jupyter's `normalize.less` sets `[hidden] { display: none; }` but bootstrap.min.css set `[hidden] { display: none !important; }` so we also need the `!important` here to be able to override the default hidden behavior on the sphinx rendered scikit-learn.org. See: https://github.com/scikit-learn/scikit-learn/issues/21755 */display: inline-block !important;position: relative;}#sk-container-id-5 div.sk-text-repr-fallback {display: none;}</style><div id=\"sk-container-id-5\" class=\"sk-top-container\"><div class=\"sk-text-repr-fallback\"><pre>XGBRegressor(alpha=0.41610393, base_score=None, booster=None, callbacks=None,\n",
       "             colsample_bylevel=None, colsample_bynode=None,\n",
       "             colsample_bytree=0.6815701, early_stopping_rounds=None,\n",
       "             enable_categorical=False, eval_metric=None, feature_types=None,\n",
       "             gamma=0.2964622, gpu_id=None, grow_policy=None,\n",
       "             importance_type=None, interaction_constraints=None,\n",
       "             lambda=0.58841556, learning_rate=0.08837483, max_bin=None,\n",
       "             max_cat_threshold=None, max_cat_to_onehot=None, max_delta_step=0,\n",
       "             max_depth=17, max_leaves=None, min_child_weight=0.52404153,\n",
       "             missing=nan, monotone_constraints=None, n_estimators=200,\n",
       "             n_jobs=None, num_parallel_tree=None, ...)</pre><b>In a Jupyter environment, please rerun this cell to show the HTML representation or trust the notebook. <br />On GitHub, the HTML representation is unable to render, please try loading this page with nbviewer.org.</b></div><div class=\"sk-container\" hidden><div class=\"sk-item\"><div class=\"sk-estimator sk-toggleable\"><input class=\"sk-toggleable__control sk-hidden--visually\" id=\"sk-estimator-id-5\" type=\"checkbox\" checked><label for=\"sk-estimator-id-5\" class=\"sk-toggleable__label sk-toggleable__label-arrow\">XGBRegressor</label><div class=\"sk-toggleable__content\"><pre>XGBRegressor(alpha=0.41610393, base_score=None, booster=None, callbacks=None,\n",
       "             colsample_bylevel=None, colsample_bynode=None,\n",
       "             colsample_bytree=0.6815701, early_stopping_rounds=None,\n",
       "             enable_categorical=False, eval_metric=None, feature_types=None,\n",
       "             gamma=0.2964622, gpu_id=None, grow_policy=None,\n",
       "             importance_type=None, interaction_constraints=None,\n",
       "             lambda=0.58841556, learning_rate=0.08837483, max_bin=None,\n",
       "             max_cat_threshold=None, max_cat_to_onehot=None, max_delta_step=0,\n",
       "             max_depth=17, max_leaves=None, min_child_weight=0.52404153,\n",
       "             missing=nan, monotone_constraints=None, n_estimators=200,\n",
       "             n_jobs=None, num_parallel_tree=None, ...)</pre></div></div></div></div></div>"
      ],
      "text/plain": [
       "XGBRegressor(alpha=0.41610393, base_score=None, booster=None, callbacks=None,\n",
       "             colsample_bylevel=None, colsample_bynode=None,\n",
       "             colsample_bytree=0.6815701, early_stopping_rounds=None,\n",
       "             enable_categorical=False, eval_metric=None, feature_types=None,\n",
       "             gamma=0.2964622, gpu_id=None, grow_policy=None,\n",
       "             importance_type=None, interaction_constraints=None,\n",
       "             lambda=0.58841556, learning_rate=0.08837483, max_bin=None,\n",
       "             max_cat_threshold=None, max_cat_to_onehot=None, max_delta_step=0,\n",
       "             max_depth=17, max_leaves=None, min_child_weight=0.52404153,\n",
       "             missing=nan, monotone_constraints=None, n_estimators=200,\n",
       "             n_jobs=None, num_parallel_tree=None, ...)"
      ]
     },
     "execution_count": 175,
     "metadata": {},
     "output_type": "execute_result"
    }
   ],
   "source": [
    "from xgboost import XGBRegressor\n",
    "from sklearn.model_selection import RandomizedSearchCV\n",
    "\n",
    "param_grid = {\n",
    "    'n_estimators': 200,\n",
    "    'max_depth': 17,\n",
    "    'learning_rate': 0.08837483,\n",
    "    'max_delta_step':0,\n",
    "    'alpha': 0.41610393, \n",
    "    'lambda':0.58841556,\n",
    "    'gamma': 0.2964622,\n",
    "    'min_child_weight':0.52404153,\n",
    "    'subsample': 0.8800853,\n",
    "    'colsample_bytree': 0.6815701,\n",
    "    #'scale_pos_weight':1,\n",
    "}\n",
    "\n",
    "model = XGBRegressor(**param_grid)\n",
    "#random_search = RandomizedSearchCV(model, param_distributions=param_grid)\n",
    "model.fit(X_train, y_train)\n"
   ]
  },
  {
   "cell_type": "markdown",
   "metadata": {
    "id": "Wf7WQFfmHNtP"
   },
   "source": [
    "Evaluation"
   ]
  },
  {
   "cell_type": "code",
   "execution_count": 176,
   "metadata": {
    "colab": {
     "base_uri": "https://localhost:8080/"
    },
    "id": "xTwiCN3r14wR",
    "outputId": "086500fe-3c8a-4907-98ba-95f6ca3f8d50"
   },
   "outputs": [
    {
     "data": {
      "text/plain": [
       "248050.821445323"
      ]
     },
     "execution_count": 176,
     "metadata": {},
     "output_type": "execute_result"
    }
   ],
   "source": [
    "from sklearn.metrics import mean_squared_error\n",
    "y_pred = model.predict(X_test)\n",
    "rmse = mean_squared_error(y_test, y_pred, squared=False)\n",
    "rmse"
   ]
  },
  {
   "cell_type": "code",
   "execution_count": 177,
   "metadata": {
    "colab": {
     "base_uri": "https://localhost:8080/"
    },
    "id": "LO9JSIDb14wR",
    "outputId": "fdf1c0f3-99fc-4fbf-abe9-a59c0240459c"
   },
   "outputs": [
    {
     "name": "stdout",
     "output_type": "stream",
     "text": [
      "MAPE: 7.352444410590121\n"
     ]
    }
   ],
   "source": [
    "import numpy as np\n",
    "# calculate absolute percentage error for each prediction\n",
    "APE = (np.abs(y_test - y_pred) / y_test) * 100\n",
    "\n",
    "# calculate MAPE\n",
    "MAPE = np.mean(APE)\n",
    "print('MAPE:', MAPE)"
   ]
  }
 ],
 "metadata": {
  "accelerator": "GPU",
  "colab": {
   "provenance": []
  },
  "gpuClass": "standard",
  "kernelspec": {
   "display_name": "Python 3 (ipykernel)",
   "language": "python",
   "name": "python3"
  },
  "language_info": {
   "codemirror_mode": {
    "name": "ipython",
    "version": 3
   },
   "file_extension": ".py",
   "mimetype": "text/x-python",
   "name": "python",
   "nbconvert_exporter": "python",
   "pygments_lexer": "ipython3",
   "version": "3.8.12"
  },
  "toc": {
   "base_numbering": 1,
   "nav_menu": {},
   "number_sections": true,
   "sideBar": true,
   "skip_h1_title": false,
   "title_cell": "Table of Contents",
   "title_sidebar": "Contents",
   "toc_cell": false,
   "toc_position": {},
   "toc_section_display": true,
   "toc_window_display": false
  },
  "vscode": {
   "interpreter": {
    "hash": "7cb395e0f64fc58be19995eff3bff6a10b5b8fb29e00c5734a473fca9b56bbc0"
   }
  }
 },
 "nbformat": 4,
 "nbformat_minor": 1
}
