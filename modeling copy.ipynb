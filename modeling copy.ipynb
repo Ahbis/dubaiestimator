{
 "cells": [
  {
   "cell_type": "markdown",
   "metadata": {
    "id": "fSbVe7nsDzqV"
   },
   "source": [
    "# Import libraies"
   ]
  },
  {
   "cell_type": "code",
   "execution_count": 1,
   "metadata": {
    "colab": {
     "base_uri": "https://localhost:8080/"
    },
    "id": "cQbXXYtB14wL",
    "outputId": "d80c181d-86fb-438a-b25b-f9dc8ed9ae4a"
   },
   "outputs": [],
   "source": [
    "from datetime import datetime\n",
    "import pandas as pd\n",
    "import nltk\n",
    "from nltk.tokenize import word_tokenize\n",
    "from nltk.corpus import stopwords\n",
    "from nltk.stem import WordNetLemmatizer, PorterStemmer\n",
    "from sklearn.feature_extraction.text import HashingVectorizer\n",
    "from sklearn.decomposition import TruncatedSVD"
   ]
  },
  {
   "cell_type": "markdown",
   "metadata": {
    "id": "DoF33YgtFvpc"
   },
   "source": [
    "# Read data"
   ]
  },
  {
   "cell_type": "code",
   "execution_count": 2,
   "metadata": {
    "colab": {
     "base_uri": "https://localhost:8080/"
    },
    "id": "c7vCvX9714wN",
    "outputId": "cf1a1db5-8c6d-4b0b-a494-19bcf9baf3f1"
   },
   "outputs": [],
   "source": [
    "df = pd.read_csv('data/merged_cleaned_data.csv')\n"
   ]
  },
  {
   "cell_type": "code",
   "execution_count": 3,
   "metadata": {
    "colab": {
     "base_uri": "https://localhost:8080/"
    },
    "id": "-e1rKmbQ14wO",
    "outputId": "5a0a0486-b5a8-44f1-dfcc-02884ae72a91"
   },
   "outputs": [],
   "source": [
    "# Get 200k rows\n",
    "df['Month_Year'] = pd.to_datetime(df['Month_Year'])\n",
    "df = df.sort_values(by='Month_Year', ascending=False)\n",
    "\n",
    "# select the most recent 200k rows using iloc\n",
    "df = df.iloc[:200000]\n"
   ]
  },
  {
   "cell_type": "markdown",
   "metadata": {
    "id": "GiKyjn60GGft"
   },
   "source": [
    "# Pre-Processing"
   ]
  },
  {
   "cell_type": "markdown",
   "metadata": {
    "id": "yQCPuWtlGM_b"
   },
   "source": [
    "Create Year column"
   ]
  },
  {
   "cell_type": "code",
   "execution_count": 4,
   "metadata": {
    "colab": {
     "base_uri": "https://localhost:8080/"
    },
    "id": "IafOEPsK14wO",
    "outputId": "b10d9304-1775-4bca-8436-d18dcf5c41d5"
   },
   "outputs": [],
   "source": [
    "df['Month_Year'] = df['Month_Year'].apply(lambda x: datetime.strftime(x, '%m-%Y'))\n",
    "# define a function to convert the string to a datetime object and extract the year\n",
    "def extract_year(date_str):\n",
    "    date_obj = datetime.strptime(date_str, '%m-%Y')\n",
    "    return date_obj.year\n",
    "\n",
    "# apply the function to the date column and create a new column with only the year\n",
    "df['Year'] = df['Month_Year'].apply(extract_year)\n"
   ]
  },
  {
   "cell_type": "markdown",
   "metadata": {
    "id": "cFicsVWxGpPo"
   },
   "source": [
    "Tokenize 'name_property'"
   ]
  },
  {
   "cell_type": "code",
   "execution_count": 6,
   "metadata": {
    "colab": {
     "base_uri": "https://localhost:8080/"
    },
    "id": "yPbtQQSK14wO",
    "outputId": "10878ce1-3697-4ac8-9a1c-4216ccdce6a5"
   },
   "outputs": [
    {
     "name": "stderr",
     "output_type": "stream",
     "text": [
      "/var/folders/y2/94fl58f16jj1h1p44ytcw72m0000gn/T/ipykernel_31803/1690019950.py:9: FutureWarning: The default value of regex will change from True to False in a future version.\n",
      "  df['Property Name'] = df['Property Name'].str.replace('[^\\w\\s]', '')\n"
     ]
    },
    {
     "data": {
      "text/plain": [
       "(200000, 23)"
      ]
     },
     "execution_count": 6,
     "metadata": {},
     "output_type": "execute_result"
    }
   ],
   "source": [
    "# Remove stopwords\n",
    "stop_words = set(stopwords.words('english'))\n",
    "df['Property Name'] = df['Property Name'].apply(lambda x: ' '.join([word for word in x.split() if word not in stop_words]))\n",
    "\n",
    "# Convert to lowercase\n",
    "df['Property Name'] = df['Property Name'].str.lower()\n",
    "\n",
    "# Remove punctuation and special characters\n",
    "df['Property Name'] = df['Property Name'].str.replace('[^\\w\\s]', '')\n",
    "\n",
    "# Tokenize the text\n",
    "df['Property Name'] = df['Property Name'].apply(lambda x: word_tokenize(x))\n",
    "\n",
    "df.shape\n"
   ]
  },
  {
   "cell_type": "markdown",
   "metadata": {
    "id": "NS1iyKcuGu_m"
   },
   "source": [
    "Hashing 'name_property'"
   ]
  },
  {
   "cell_type": "code",
   "execution_count": 147,
   "metadata": {
    "colab": {
     "base_uri": "https://localhost:8080/"
    },
    "id": "vrmUP8Np14wP",
    "outputId": "9b710693-976d-452b-da21-fab2f770ef45"
   },
   "outputs": [
    {
     "data": {
      "text/plain": [
       "(200000, 123)"
      ]
     },
     "execution_count": 147,
     "metadata": {},
     "output_type": "execute_result"
    }
   ],
   "source": [
    "vectorizer = HashingVectorizer(n_features=200000, ngram_range=(1, 2))\n",
    "X = vectorizer.fit_transform(df['Property Name'].astype(str))\n",
    "svd = TruncatedSVD(n_components=100)\n",
    "components = svd.fit_transform(X)\n",
    "\n",
    "hashing_columns = []\n",
    "# loop over the range from 1 to 100 and create a string for each number\n",
    "for i in range(1, (components.shape[1]+1)):\n",
    "    hashing_columns.append('hashing_'+str(i))\n",
    "\n",
    "# create a new DataFrame with the SVD components\n",
    "components_df = pd.DataFrame(components, columns=hashing_columns)\n",
    "\n",
    "# merge the original DataFrame with the components DataFrame\n",
    "df = pd.concat([df, components_df], axis=1)\n"
   ]
  },
  {
   "cell_type": "markdown",
   "metadata": {
    "id": "gvpMWE5jG0nf"
   },
   "source": [
    "Standardization"
   ]
  },
  {
   "cell_type": "code",
   "execution_count": 149,
   "metadata": {
    "colab": {
     "base_uri": "https://localhost:8080/"
    },
    "id": "5QpEP_oI14wP",
    "outputId": "2d6ef4ce-62ab-4b6c-838b-c65a979b4c61"
   },
   "outputs": [
    {
     "data": {
      "text/plain": [
       "(200000, 123)"
      ]
     },
     "execution_count": 149,
     "metadata": {},
     "output_type": "execute_result"
    }
   ],
   "source": [
    "from sklearn.preprocessing import StandardScaler\n",
    "\n",
    "# create an instance of the StandardScaler class\n",
    "scaler = StandardScaler()\n",
    "\n",
    "# select the columns to scale\n",
    "cols_to_scale = ['latitude', 'Land Size','Year','Bedrooms','Size (Sqf)','longitude']\n",
    "\n",
    "# apply the scaler to the selected columns\n",
    "df[cols_to_scale] = scaler.fit_transform(df[cols_to_scale])\n"
   ]
  },
  {
   "cell_type": "markdown",
   "metadata": {
    "id": "wdwviHebG_7v"
   },
   "source": [
    "Encoding"
   ]
  },
  {
   "cell_type": "code",
   "execution_count": 151,
   "metadata": {
    "colab": {
     "base_uri": "https://localhost:8080/"
    },
    "id": "7nUD2BYO14wP",
    "outputId": "52585c5f-6f06-4112-f758-136fd598cd3a"
   },
   "outputs": [
    {
     "data": {
      "text/plain": [
       "(200000, 247)"
      ]
     },
     "execution_count": 151,
     "metadata": {},
     "output_type": "execute_result"
    }
   ],
   "source": [
    "dummy_cols = ['Sequence', 'Type', 'Sub type', 'Property Type','Location']\n",
    "df = pd.get_dummies(df, columns=dummy_cols)\n",
    "\n",
    "# print the resulting DataFrame\n"
   ]
  },
  {
   "cell_type": "code",
   "execution_count": 155,
   "metadata": {},
   "outputs": [],
   "source": [
    "df.drop(['AED/Sqf', 'Developer', 'name_property_google', 'types_google',\n",
    "       'address_google', 'rating_google', 'user_ratings_total_google',\n",
    "       'northeast_google', 'southwest_google', 'Month_Year', 'Property Name'], axis=1, inplace=True)\n"
   ]
  },
  {
   "cell_type": "markdown",
   "metadata": {
    "id": "FJ55KVPtHB69"
   },
   "source": [
    "# Training"
   ]
  },
  {
   "cell_type": "markdown",
   "metadata": {
    "id": "jhspy6JRHGdK"
   },
   "source": [
    "Train-test split"
   ]
  },
  {
   "cell_type": "code",
   "execution_count": 164,
   "metadata": {
    "id": "Td3TUvXQ14wQ"
   },
   "outputs": [],
   "source": [
    "import pandas as pd\n",
    "from sklearn.model_selection import train_test_split\n",
    "\n",
    "# Define the features and target variable\n",
    "X = df.drop(['Amount (AED)'], axis=1)  # Assuming 'Price' is your target variable\n",
    "y = df['Amount (AED)']\n"
   ]
  },
  {
   "cell_type": "markdown",
   "metadata": {
    "id": "1Wn4dbEpHLo5"
   },
   "source": [
    "Model"
   ]
  },
  {
   "cell_type": "code",
   "execution_count": 175,
   "metadata": {
    "colab": {
     "base_uri": "https://localhost:8080/",
     "height": 248
    },
    "id": "z1D4MI6W14wR",
    "outputId": "a76e2bc7-cecd-4060-c50b-598d74852143"
   },
   "outputs": [
    {
     "data": {
      "text/html": [
       "<style>#sk-container-id-5 {color: black;background-color: white;}#sk-container-id-5 pre{padding: 0;}#sk-container-id-5 div.sk-toggleable {background-color: white;}#sk-container-id-5 label.sk-toggleable__label {cursor: pointer;display: block;width: 100%;margin-bottom: 0;padding: 0.3em;box-sizing: border-box;text-align: center;}#sk-container-id-5 label.sk-toggleable__label-arrow:before {content: \"▸\";float: left;margin-right: 0.25em;color: #696969;}#sk-container-id-5 label.sk-toggleable__label-arrow:hover:before {color: black;}#sk-container-id-5 div.sk-estimator:hover label.sk-toggleable__label-arrow:before {color: black;}#sk-container-id-5 div.sk-toggleable__content {max-height: 0;max-width: 0;overflow: hidden;text-align: left;background-color: #f0f8ff;}#sk-container-id-5 div.sk-toggleable__content pre {margin: 0.2em;color: black;border-radius: 0.25em;background-color: #f0f8ff;}#sk-container-id-5 input.sk-toggleable__control:checked~div.sk-toggleable__content {max-height: 200px;max-width: 100%;overflow: auto;}#sk-container-id-5 input.sk-toggleable__control:checked~label.sk-toggleable__label-arrow:before {content: \"▾\";}#sk-container-id-5 div.sk-estimator input.sk-toggleable__control:checked~label.sk-toggleable__label {background-color: #d4ebff;}#sk-container-id-5 div.sk-label input.sk-toggleable__control:checked~label.sk-toggleable__label {background-color: #d4ebff;}#sk-container-id-5 input.sk-hidden--visually {border: 0;clip: rect(1px 1px 1px 1px);clip: rect(1px, 1px, 1px, 1px);height: 1px;margin: -1px;overflow: hidden;padding: 0;position: absolute;width: 1px;}#sk-container-id-5 div.sk-estimator {font-family: monospace;background-color: #f0f8ff;border: 1px dotted black;border-radius: 0.25em;box-sizing: border-box;margin-bottom: 0.5em;}#sk-container-id-5 div.sk-estimator:hover {background-color: #d4ebff;}#sk-container-id-5 div.sk-parallel-item::after {content: \"\";width: 100%;border-bottom: 1px solid gray;flex-grow: 1;}#sk-container-id-5 div.sk-label:hover label.sk-toggleable__label {background-color: #d4ebff;}#sk-container-id-5 div.sk-serial::before {content: \"\";position: absolute;border-left: 1px solid gray;box-sizing: border-box;top: 0;bottom: 0;left: 50%;z-index: 0;}#sk-container-id-5 div.sk-serial {display: flex;flex-direction: column;align-items: center;background-color: white;padding-right: 0.2em;padding-left: 0.2em;position: relative;}#sk-container-id-5 div.sk-item {position: relative;z-index: 1;}#sk-container-id-5 div.sk-parallel {display: flex;align-items: stretch;justify-content: center;background-color: white;position: relative;}#sk-container-id-5 div.sk-item::before, #sk-container-id-5 div.sk-parallel-item::before {content: \"\";position: absolute;border-left: 1px solid gray;box-sizing: border-box;top: 0;bottom: 0;left: 50%;z-index: -1;}#sk-container-id-5 div.sk-parallel-item {display: flex;flex-direction: column;z-index: 1;position: relative;background-color: white;}#sk-container-id-5 div.sk-parallel-item:first-child::after {align-self: flex-end;width: 50%;}#sk-container-id-5 div.sk-parallel-item:last-child::after {align-self: flex-start;width: 50%;}#sk-container-id-5 div.sk-parallel-item:only-child::after {width: 0;}#sk-container-id-5 div.sk-dashed-wrapped {border: 1px dashed gray;margin: 0 0.4em 0.5em 0.4em;box-sizing: border-box;padding-bottom: 0.4em;background-color: white;}#sk-container-id-5 div.sk-label label {font-family: monospace;font-weight: bold;display: inline-block;line-height: 1.2em;}#sk-container-id-5 div.sk-label-container {text-align: center;}#sk-container-id-5 div.sk-container {/* jupyter's `normalize.less` sets `[hidden] { display: none; }` but bootstrap.min.css set `[hidden] { display: none !important; }` so we also need the `!important` here to be able to override the default hidden behavior on the sphinx rendered scikit-learn.org. See: https://github.com/scikit-learn/scikit-learn/issues/21755 */display: inline-block !important;position: relative;}#sk-container-id-5 div.sk-text-repr-fallback {display: none;}</style><div id=\"sk-container-id-5\" class=\"sk-top-container\"><div class=\"sk-text-repr-fallback\"><pre>XGBRegressor(alpha=0.41610393, base_score=None, booster=None, callbacks=None,\n",
       "             colsample_bylevel=None, colsample_bynode=None,\n",
       "             colsample_bytree=0.6815701, early_stopping_rounds=None,\n",
       "             enable_categorical=False, eval_metric=None, feature_types=None,\n",
       "             gamma=0.2964622, gpu_id=None, grow_policy=None,\n",
       "             importance_type=None, interaction_constraints=None,\n",
       "             lambda=0.58841556, learning_rate=0.08837483, max_bin=None,\n",
       "             max_cat_threshold=None, max_cat_to_onehot=None, max_delta_step=0,\n",
       "             max_depth=17, max_leaves=None, min_child_weight=0.52404153,\n",
       "             missing=nan, monotone_constraints=None, n_estimators=200,\n",
       "             n_jobs=None, num_parallel_tree=None, ...)</pre><b>In a Jupyter environment, please rerun this cell to show the HTML representation or trust the notebook. <br />On GitHub, the HTML representation is unable to render, please try loading this page with nbviewer.org.</b></div><div class=\"sk-container\" hidden><div class=\"sk-item\"><div class=\"sk-estimator sk-toggleable\"><input class=\"sk-toggleable__control sk-hidden--visually\" id=\"sk-estimator-id-5\" type=\"checkbox\" checked><label for=\"sk-estimator-id-5\" class=\"sk-toggleable__label sk-toggleable__label-arrow\">XGBRegressor</label><div class=\"sk-toggleable__content\"><pre>XGBRegressor(alpha=0.41610393, base_score=None, booster=None, callbacks=None,\n",
       "             colsample_bylevel=None, colsample_bynode=None,\n",
       "             colsample_bytree=0.6815701, early_stopping_rounds=None,\n",
       "             enable_categorical=False, eval_metric=None, feature_types=None,\n",
       "             gamma=0.2964622, gpu_id=None, grow_policy=None,\n",
       "             importance_type=None, interaction_constraints=None,\n",
       "             lambda=0.58841556, learning_rate=0.08837483, max_bin=None,\n",
       "             max_cat_threshold=None, max_cat_to_onehot=None, max_delta_step=0,\n",
       "             max_depth=17, max_leaves=None, min_child_weight=0.52404153,\n",
       "             missing=nan, monotone_constraints=None, n_estimators=200,\n",
       "             n_jobs=None, num_parallel_tree=None, ...)</pre></div></div></div></div></div>"
      ],
      "text/plain": [
       "XGBRegressor(alpha=0.41610393, base_score=None, booster=None, callbacks=None,\n",
       "             colsample_bylevel=None, colsample_bynode=None,\n",
       "             colsample_bytree=0.6815701, early_stopping_rounds=None,\n",
       "             enable_categorical=False, eval_metric=None, feature_types=None,\n",
       "             gamma=0.2964622, gpu_id=None, grow_policy=None,\n",
       "             importance_type=None, interaction_constraints=None,\n",
       "             lambda=0.58841556, learning_rate=0.08837483, max_bin=None,\n",
       "             max_cat_threshold=None, max_cat_to_onehot=None, max_delta_step=0,\n",
       "             max_depth=17, max_leaves=None, min_child_weight=0.52404153,\n",
       "             missing=nan, monotone_constraints=None, n_estimators=200,\n",
       "             n_jobs=None, num_parallel_tree=None, ...)"
      ]
     },
     "execution_count": 175,
     "metadata": {},
     "output_type": "execute_result"
    }
   ],
   "source": [
    "from xgboost import XGBRegressor\n",
    "from sklearn.model_selection import RandomizedSearchCV\n",
    "\n",
    "param_grid = {\n",
    "    'n_estimators': 200,\n",
    "    'max_depth': 17,\n",
    "    'learning_rate': 0.08837483,\n",
    "    'max_delta_step':0,\n",
    "    'alpha': 0.41610393, \n",
    "    'lambda':0.58841556,\n",
    "    'gamma': 0.2964622,\n",
    "    'min_child_weight':0.52404153,\n",
    "    'subsample': 0.8800853,\n",
    "    'colsample_bytree': 0.6815701,\n",
    "    #'scale_pos_weight':1,\n",
    "}\n",
    "\n",
    "model = XGBRegressor(**param_grid)\n",
    "#random_search = RandomizedSearchCV(model, param_distributions=param_grid)\n",
    "model.fit(X, y)\n"
   ]
  },
  {
   "cell_type": "markdown",
   "metadata": {
    "id": "Wf7WQFfmHNtP"
   },
   "source": [
    "Evaluation"
   ]
  }
 ],
 "metadata": {
  "accelerator": "GPU",
  "colab": {
   "provenance": []
  },
  "gpuClass": "standard",
  "kernelspec": {
   "display_name": "Python 3 (ipykernel)",
   "language": "python",
   "name": "python3"
  },
  "language_info": {
   "codemirror_mode": {
    "name": "ipython",
    "version": 3
   },
   "file_extension": ".py",
   "mimetype": "text/x-python",
   "name": "python",
   "nbconvert_exporter": "python",
   "pygments_lexer": "ipython3",
   "version": "3.8.12"
  },
  "toc": {
   "base_numbering": 1,
   "nav_menu": {},
   "number_sections": true,
   "sideBar": true,
   "skip_h1_title": false,
   "title_cell": "Table of Contents",
   "title_sidebar": "Contents",
   "toc_cell": false,
   "toc_position": {},
   "toc_section_display": true,
   "toc_window_display": false
  },
  "vscode": {
   "interpreter": {
    "hash": "7cb395e0f64fc58be19995eff3bff6a10b5b8fb29e00c5734a473fca9b56bbc0"
   }
  }
 },
 "nbformat": 4,
 "nbformat_minor": 1
}
